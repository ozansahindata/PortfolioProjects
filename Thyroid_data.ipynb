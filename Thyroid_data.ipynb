{
 "cells": [
  {
   "cell_type": "code",
   "execution_count": 18,
   "metadata": {},
   "outputs": [
    {
     "name": "stdout",
     "output_type": "stream",
     "text": [
      "/Users/ozansahin/Desktop/Notebooks\n"
     ]
    }
   ],
   "source": [
    "import pandas as pd\n",
    "import plotly.express as px\n",
    "import os\n",
    "print(os.getcwd())"
   ]
  },
  {
   "cell_type": "code",
   "execution_count": 20,
   "metadata": {},
   "outputs": [],
   "source": [
    "df= pd.read_csv('../DataBases/thyroid/all_conditions.csv')"
   ]
  },
  {
   "cell_type": "code",
   "execution_count": 21,
   "metadata": {},
   "outputs": [
    {
     "name": "stdout",
     "output_type": "stream",
     "text": [
      "<bound method DataFrame.info of        age sex on_thyroxine query_on_thyroxine on_antithyroid_meds sick  \\\n",
      "0     41.0   F            f                  f                   f    f   \n",
      "1     23.0   F            f                  f                   f    f   \n",
      "2     46.0   M            f                  f                   f    f   \n",
      "3     70.0   F            t                  f                   f    f   \n",
      "4     70.0   F            f                  f                   f    f   \n",
      "...    ...  ..          ...                ...                 ...  ...   \n",
      "2795  70.0   M            f                  f                   f    f   \n",
      "2796  73.0   M            f                  t                   f    f   \n",
      "2797  75.0   M            f                  f                   f    f   \n",
      "2798  60.0   F            f                  f                   f    f   \n",
      "2799  81.0   F            f                  f                   f    f   \n",
      "\n",
      "     pregnant thyroid_surgery I131_treatment query_hypothyroid  ...    FTI  \\\n",
      "0           f               f              f                 f  ...  109.0   \n",
      "1           f               f              f                 f  ...    NaN   \n",
      "2           f               f              f                 f  ...  120.0   \n",
      "3           f               f              f                 f  ...    NaN   \n",
      "4           f               f              f                 f  ...   70.0   \n",
      "...       ...             ...            ...               ...  ...    ...   \n",
      "2795        f               f              f                 f  ...  148.0   \n",
      "2796        f               f              f                 f  ...   72.0   \n",
      "2797        f               f              f                 f  ...  183.0   \n",
      "2798        f               f              f                 f  ...  121.0   \n",
      "2799        f               f              f                 f  ...  115.0   \n",
      "\n",
      "     TBG_measured TBG referral_source patient_id target_hyper target_hypo  \\\n",
      "0               f NaN            SVHC       3733     negative    negative   \n",
      "1               f NaN           other       1442     negative    negative   \n",
      "2               f NaN           other       2965     negative    negative   \n",
      "3               f NaN           other        806     negative    negative   \n",
      "4               f NaN             SVI       2807     negative    negative   \n",
      "...           ...  ..             ...        ...          ...         ...   \n",
      "2795            f NaN             SVI       3689     negative    negative   \n",
      "2796            f NaN           other       3652     negative    negative   \n",
      "2797            f NaN           other       1287     negative    negative   \n",
      "2798            f NaN           other       3496     negative    negative   \n",
      "2799            f NaN             SVI        724     negative    negative   \n",
      "\n",
      "      target_bp           target_rep  target_sick  \n",
      "0      negative             negative     negative  \n",
      "1      negative             negative     negative  \n",
      "2      negative             negative     negative  \n",
      "3      negative  replacement therapy     negative  \n",
      "4      negative             negative     negative  \n",
      "...         ...                  ...          ...  \n",
      "2795   negative             negative     negative  \n",
      "2796   negative             negative         sick  \n",
      "2797   negative             negative     negative  \n",
      "2798   negative             negative     negative  \n",
      "2799   negative             negative     negative  \n",
      "\n",
      "[2800 rows x 35 columns]>\n",
      "    age sex on_thyroxine query_on_thyroxine on_antithyroid_meds sick pregnant  \\\n",
      "0  41.0   F            f                  f                   f    f        f   \n",
      "1  23.0   F            f                  f                   f    f        f   \n",
      "2  46.0   M            f                  f                   f    f        f   \n",
      "3  70.0   F            t                  f                   f    f        f   \n",
      "4  70.0   F            f                  f                   f    f        f   \n",
      "\n",
      "  thyroid_surgery I131_treatment query_hypothyroid  ...    FTI TBG_measured  \\\n",
      "0               f              f                 f  ...  109.0            f   \n",
      "1               f              f                 f  ...    NaN            f   \n",
      "2               f              f                 f  ...  120.0            f   \n",
      "3               f              f                 f  ...    NaN            f   \n",
      "4               f              f                 f  ...   70.0            f   \n",
      "\n",
      "  TBG referral_source patient_id target_hyper target_hypo  target_bp  \\\n",
      "0 NaN            SVHC       3733     negative    negative   negative   \n",
      "1 NaN           other       1442     negative    negative   negative   \n",
      "2 NaN           other       2965     negative    negative   negative   \n",
      "3 NaN           other        806     negative    negative   negative   \n",
      "4 NaN             SVI       2807     negative    negative   negative   \n",
      "\n",
      "            target_rep  target_sick  \n",
      "0             negative     negative  \n",
      "1             negative     negative  \n",
      "2             negative     negative  \n",
      "3  replacement therapy     negative  \n",
      "4             negative     negative  \n",
      "\n",
      "[5 rows x 35 columns]\n"
     ]
    }
   ],
   "source": [
    "print(df.info)\n",
    "print(df.head())"
   ]
  },
  {
   "cell_type": "code",
   "execution_count": 22,
   "metadata": {},
   "outputs": [
    {
     "name": "stdout",
     "output_type": "stream",
     "text": [
      "                 age       TSH        T3       TT4       T4U       FTI  TBG  \\\n",
      "age         1.000000 -0.059776 -0.244702 -0.052111 -0.163357  0.037623  NaN   \n",
      "TSH        -0.059776  1.000000 -0.160890 -0.254791  0.067705 -0.291188  NaN   \n",
      "T3         -0.244702 -0.160890  1.000000  0.563901  0.463434  0.351013  NaN   \n",
      "TT4        -0.052111 -0.254791  0.563901  1.000000  0.434248  0.795206  NaN   \n",
      "T4U        -0.163357  0.067705  0.463434  0.434248  1.000000 -0.173056  NaN   \n",
      "FTI         0.037623 -0.291188  0.351013  0.795206 -0.173056  1.000000  NaN   \n",
      "TBG              NaN       NaN       NaN       NaN       NaN       NaN  NaN   \n",
      "patient_id -0.044519  0.059232 -0.014278  0.033770 -0.025212  0.058891  NaN   \n",
      "\n",
      "            patient_id  \n",
      "age          -0.044519  \n",
      "TSH           0.059232  \n",
      "T3           -0.014278  \n",
      "TT4           0.033770  \n",
      "T4U          -0.025212  \n",
      "FTI           0.058891  \n",
      "TBG                NaN  \n",
      "patient_id    1.000000  \n"
     ]
    }
   ],
   "source": [
    "# In this example, we will only look TSH values are related (Correlation function says they are )\n",
    "print(df.corr(method='pearson'))"
   ]
  },
  {
   "cell_type": "code",
   "execution_count": 23,
   "metadata": {},
   "outputs": [],
   "source": [
    "df = df[['age','sex','TSH_measured','TSH']]"
   ]
  },
  {
   "cell_type": "code",
   "execution_count": 24,
   "metadata": {},
   "outputs": [],
   "source": [
    "#  filtering TSH_Measured values which are True (t)\n",
    "\n",
    "df = df[df['TSH_measured']=='t']"
   ]
  },
  {
   "cell_type": "code",
   "execution_count": 25,
   "metadata": {},
   "outputs": [],
   "source": [
    "# filtering sex values only for M and F (removing null, blank and other possible unwanted rows)\n",
    "df = df[(df['sex'] == 'F') | (df['sex'] == 'M')]\n",
    "df = df[df['age'] < 110]"
   ]
  },
  {
   "cell_type": "code",
   "execution_count": 27,
   "metadata": {
    "scrolled": false
   },
   "outputs": [],
   "source": [
    "fig = px.scatter(df,x=df['age'],y=df['TSH'],facet_col='sex',color='sex')\n",
    "fig.update_traces(marker=dict(size=12))\n",
    "fig.update_layout(title_text=\"Thyroid-stimulating hormone measured in Females and Males with Different Ages\")\n",
    "fig.write_html(\"graph1.html\")"
   ]
  },
  {
   "cell_type": "code",
   "execution_count": 28,
   "metadata": {},
   "outputs": [],
   "source": [
    "# Females are more prone to thyroid disease from males. There are TSH measured between the 80-200 are\n",
    "# relatively high comparing to males\n",
    "\n",
    "#To see how standart deviation effects these two graphics we can add some std function thanks to pandas.\n",
    "\n",
    "# mean and std values for females\n",
    "df['tsh_mean_females'] = df[df['sex'] =='F']['TSH'].mean()\n",
    "df['tsh_std_females'] = df[df['sex'] =='F']['TSH'].std()\n",
    "df['upper_limit_std_females'] = df['tsh_mean_females']+df['tsh_std_females']\n"
   ]
  },
  {
   "cell_type": "code",
   "execution_count": 29,
   "metadata": {},
   "outputs": [],
   "source": [
    "# mean and std values for males\n",
    "df['tsh_mean_males'] = df[df['sex'] =='M']['TSH'].mean()\n",
    "df['tsh_std_males'] = df[df['sex'] =='M']['TSH'].std()\n",
    "df['upper_limit_std_males'] = df['tsh_mean_males']+df['tsh_std_males']"
   ]
  },
  {
   "cell_type": "code",
   "execution_count": 30,
   "metadata": {
    "scrolled": false
   },
   "outputs": [],
   "source": [
    "fig = px.scatter(df,x=df['age'],y=df['TSH'],facet_col='sex',color='sex')\n",
    "fig.add_scatter(x=df['age'],y=df['tsh_mean_females'],name='Mean Tsh Values')\n",
    "fig.add_scatter(x=df['age'],y=df['upper_limit_std_females'],name='Upper Limit of Tsh Values')\n",
    "##\n",
    "fig.add_scatter(x=df['age'],y=df['tsh_mean_males'],name='Mean Tsh Values',row=1,col=2)\n",
    "fig.add_scatter(x=df['age'],y=df['upper_limit_std_males'],name='Upper Limit of Tsh Values',row=1,col=2)\n",
    "\n",
    "fig.update_layout(title_text=\"Thyroid-stimulating hormone, Standart deviation values according to sex\")\n",
    "fig.write_html(\"graph2.html\")"
   ]
  },
  {
   "cell_type": "code",
   "execution_count": null,
   "metadata": {},
   "outputs": [],
   "source": [
    "# The standart deviation of Tsh values in females is 27.28 and 16.11 in males.\n",
    "# This doesn't mean it's safe for values 27 for the females of course, \n",
    "# but it will definitely give an idea about standart levels."
   ]
  }
 ],
 "metadata": {
  "kernelspec": {
   "display_name": "Python 3",
   "language": "python",
   "name": "python3"
  },
  "language_info": {
   "codemirror_mode": {
    "name": "ipython",
    "version": 3
   },
   "file_extension": ".py",
   "mimetype": "text/x-python",
   "name": "python",
   "nbconvert_exporter": "python",
   "pygments_lexer": "ipython3",
   "version": "3.7.3"
  }
 },
 "nbformat": 4,
 "nbformat_minor": 4
}
